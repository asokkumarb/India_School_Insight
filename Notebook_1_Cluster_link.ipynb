{
  "nbformat": 4,
  "nbformat_minor": 0,
  "metadata": {
    "colab": {
      "name": "Notebook_1_Cluster_link.ipynb",
      "provenance": [],
      "collapsed_sections": []
    },
    "kernelspec": {
      "name": "python3",
      "display_name": "Python 3"
    },
    "accelerator": "GPU"
  },
  "cells": [
    {
      "cell_type": "markdown",
      "metadata": {
        "id": "3aOhQBZSraUZ",
        "colab_type": "text"
      },
      "source": [
        "##Webscraping School Data "
      ]
    },
    {
      "cell_type": "code",
      "metadata": {
        "id": "yJYIpT2-4x_s",
        "colab_type": "code",
        "colab": {}
      },
      "source": [
        "#import BeautifulSoup and requests\n",
        "from requests import get\n",
        "from bs4 import BeautifulSoup"
      ],
      "execution_count": 0,
      "outputs": []
    },
    {
      "cell_type": "code",
      "metadata": {
        "id": "04hBv1H5AvDr",
        "colab_type": "code",
        "colab": {}
      },
      "source": [
        "#create a function to find all the links tag in a page\n",
        "\n",
        "def fetch_url(url):\n",
        "  \n",
        "  response = get(url)  #make a request to server to get the url\n",
        "  html = response.text #store the html text\n",
        "  soup = BeautifulSoup(html,'html.parser')  #parse html-parser in BeautifulSoup object\n",
        "  div_class = soup.find_all('div', 'my-3 p-3 bg-white rounded shadow-sm')  #find all the 'div' with 'my-3 p-3 bg-white rounded shadow-sm' class\n",
        "  lst = div_class[1] #store the first list of div_class in lst\n",
        "  link_tag = lst.table.find_all('a') #find all the <a> tag to scrape the link\n",
        "  return link_tag  #return link tag"
      ],
      "execution_count": 0,
      "outputs": []
    },
    {
      "cell_type": "markdown",
      "metadata": {
        "id": "iTIvmz6EZyF3",
        "colab_type": "text"
      },
      "source": [
        "###List of the districts in Uttar Pradesh"
      ]
    },
    {
      "cell_type": "code",
      "metadata": {
        "id": "ThMdEMhFoNYc",
        "colab_type": "code",
        "outputId": "06a68d8a-9822-4d03-ec35-46f55a2563e9",
        "colab": {
          "base_uri": "https://localhost:8080/",
          "height": 68
        }
      },
      "source": [
        "%%time\n",
        "url = 'https://schools.org.in/uttar-pradesh'  #district page url\n",
        "uttar_u = fetch_url(url)  #fetch all the <a> tags from base url\n",
        "\n",
        "districts_link = []  #create a empty district links\n",
        "base_url = 'https://schools.org.in/'  #base url\n",
        "\n",
        "for tag in uttar_u:  #iterate over all the <a> tags\n",
        "  districts_link.append(base_url + tag.get('href'))  #scrape the links and append in district links\n",
        "\n",
        "print(len(districts_link))"
      ],
      "execution_count": 6,
      "outputs": [
        {
          "output_type": "stream",
          "text": [
            "75\n",
            "CPU times: user 32.1 ms, sys: 2.16 ms, total: 34.2 ms\n",
            "Wall time: 1.43 s\n"
          ],
          "name": "stdout"
        }
      ]
    },
    {
      "cell_type": "markdown",
      "metadata": {
        "id": "Be-Iy2ZBUqEh",
        "colab_type": "text"
      },
      "source": [
        "###List of the Blocks"
      ]
    },
    {
      "cell_type": "code",
      "metadata": {
        "id": "WqmB4z-sOn7N",
        "colab_type": "code",
        "outputId": "f484b22d-d74e-40da-fdf6-27fc604223a2",
        "colab": {
          "base_uri": "https://localhost:8080/",
          "height": 51
        }
      },
      "source": [
        "%%time\n",
        "\n",
        "blocks = []  #create a empty list\n",
        "\n",
        "for i in districts_link:  #using for loop iterate over all the district links\n",
        "  uttar_b = fetch_url(i)  #find all the <a> tags in a page\n",
        "  \n",
        "  for tag in uttar_b:  #iterate over all the <a> tags\n",
        "    blocks.append(base_url + tag.get('href')) #append the list with the block links\n",
        "\n",
        "\n"
      ],
      "execution_count": 7,
      "outputs": [
        {
          "output_type": "stream",
          "text": [
            "CPU times: user 1.36 s, sys: 41.5 ms, total: 1.4 s\n",
            "Wall time: 1min 16s\n"
          ],
          "name": "stdout"
        }
      ]
    },
    {
      "cell_type": "code",
      "metadata": {
        "id": "bNex7SM962bW",
        "colab_type": "code",
        "colab": {
          "base_uri": "https://localhost:8080/",
          "height": 34
        },
        "outputId": "4864e722-1724-4287-9665-8fa359cf2cb4"
      },
      "source": [
        "len(blocks) #check length of blocks"
      ],
      "execution_count": 8,
      "outputs": [
        {
          "output_type": "execute_result",
          "data": {
            "text/plain": [
              "971"
            ]
          },
          "metadata": {
            "tags": []
          },
          "execution_count": 8
        }
      ]
    },
    {
      "cell_type": "markdown",
      "metadata": {
        "id": "TT5ctyCqZr9q",
        "colab_type": "text"
      },
      "source": [
        "###List Of Clusters"
      ]
    },
    {
      "cell_type": "code",
      "metadata": {
        "id": "jAsYbhzKXiUr",
        "colab_type": "code",
        "outputId": "1e535308-a187-4035-99b1-bf1336609cc4",
        "colab": {
          "base_uri": "https://localhost:8080/",
          "height": 51
        }
      },
      "source": [
        "%%time\n",
        "clusters_links = []  #create a empty list \n",
        "\n",
        "for i in blocks:  #iterate over all the block lists\n",
        "  uttar_p_clust = fetch_url(i) #find all the a tags \n",
        "\n",
        "  for tag in uttar_p_clust:  #iterate over all the <a> tags\n",
        "    clusters_links.append(base_url + tag.get('href'))  #append the list with cluster links\n",
        "       \n"
      ],
      "execution_count": 9,
      "outputs": [
        {
          "output_type": "stream",
          "text": [
            "CPU times: user 17.1 s, sys: 530 ms, total: 17.6 s\n",
            "Wall time: 17min\n"
          ],
          "name": "stdout"
        }
      ]
    },
    {
      "cell_type": "code",
      "metadata": {
        "id": "2ru-G0zs6tqd",
        "colab_type": "code",
        "colab": {
          "base_uri": "https://localhost:8080/",
          "height": 34
        },
        "outputId": "f80c0fa7-7122-49ab-9b79-b8dc82cff90a"
      },
      "source": [
        "len(clusters_links) #check the length of cluster links"
      ],
      "execution_count": 10,
      "outputs": [
        {
          "output_type": "execute_result",
          "data": {
            "text/plain": [
              "9375"
            ]
          },
          "metadata": {
            "tags": []
          },
          "execution_count": 10
        }
      ]
    },
    {
      "cell_type": "code",
      "metadata": {
        "id": "wUGSJc2RdfDz",
        "colab_type": "code",
        "colab": {}
      },
      "source": [
        "#store the cluster link in a Dataframe\n",
        "import pandas as pd\n",
        "Clusters = pd.DataFrame({\n",
        "    'links' : clusters_links})"
      ],
      "execution_count": 0,
      "outputs": []
    },
    {
      "cell_type": "code",
      "metadata": {
        "id": "En_ZU7ubdtvS",
        "colab_type": "code",
        "colab": {}
      },
      "source": [
        "#convert the dataframe to csv and save the link to drive\n",
        "Clusters.to_csv('data_c.csv')\n",
        "!cp data_c.csv '/content/drive/My Drive/data_s'"
      ],
      "execution_count": 0,
      "outputs": []
    },
    {
      "cell_type": "code",
      "metadata": {
        "id": "00yXg-1zBSOB",
        "colab_type": "code",
        "colab": {}
      },
      "source": [
        ""
      ],
      "execution_count": 0,
      "outputs": []
    }
  ]
}